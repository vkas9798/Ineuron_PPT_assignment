{
 "cells": [
  {
   "cell_type": "markdown",
   "id": "db8231e2",
   "metadata": {},
   "source": [
    "Question 1: Given a non-negative integer `x`, return *the square root of* `x` *rounded down to the nearest integer*. The returned integer should be **non-negative** as well.\n",
    "\n",
    "You **must not use** any built-in exponent function or operator.\n",
    "\n",
    "- For example, do not use `pow(x, 0.5)` in c++ or `x ** 0.5` in python."
   ]
  },
  {
   "cell_type": "code",
   "execution_count": 9,
   "id": "dc00b6bd",
   "metadata": {},
   "outputs": [
    {
     "data": {
      "text/plain": [
       "7"
      ]
     },
     "execution_count": 9,
     "metadata": {},
     "output_type": "execute_result"
    }
   ],
   "source": [
    "def sq_root(x):\n",
    "    res=0\n",
    "    for i in range(0,int(x/2+1)):\n",
    "        if i*i>x:\n",
    "            res = i-1\n",
    "            break\n",
    "    return res\n",
    "sq_root(56)"
   ]
  },
  {
   "cell_type": "markdown",
   "id": "c120e84d",
   "metadata": {},
   "source": [
    "Question 2: A peak element is an element that is strictly greater than its neighbors.\n",
    "\n",
    "Given a **0-indexed** integer array `nums`, find a peak element, and return its index. If the array contains multiple peaks, return the index to **any of the peaks**.\n",
    "\n",
    "You may imagine that `nums[-1] = nums[n] = -∞`. In other words, an element is always considered to be strictly greater than a neighbor that is outside the array.\n",
    "\n",
    "You must write an algorithm that runs in `O(log n)` time."
   ]
  },
  {
   "cell_type": "code",
   "execution_count": 28,
   "id": "35fa603d",
   "metadata": {},
   "outputs": [
    {
     "data": {
      "text/plain": [
       "1"
      ]
     },
     "execution_count": 28,
     "metadata": {},
     "output_type": "execute_result"
    }
   ],
   "source": [
    "#o(n) solution\n",
    "\n",
    "def peak_(arr):\n",
    "    for i in range(len(arr)-2):\n",
    "        if arr[i]<arr[i+1] and arr[i+1]>arr[i+2]:\n",
    "            return(i+1)\n",
    "        \n",
    "arr=[1,2,1,3,5,6,4]\n",
    "peak_(arr)"
   ]
  },
  {
   "cell_type": "code",
   "execution_count": 27,
   "id": "a1fa4e21",
   "metadata": {},
   "outputs": [
    {
     "data": {
      "text/plain": [
       "5"
      ]
     },
     "execution_count": 27,
     "metadata": {},
     "output_type": "execute_result"
    }
   ],
   "source": [
    "# O(log n)\n",
    "\n",
    "def peak(arr):\n",
    "    s = 0\n",
    "    e = len(arr)-1\n",
    "    while s<e:\n",
    "        mid = (s+e)//2\n",
    "        if arr[mid]>arr[mid-1] and arr[mid]>arr[mid+1]:\n",
    "            return mid\n",
    "        elif arr[mid]>arr[mid-1] and arr[mid]<arr[mid+1]:\n",
    "            s = mid+1\n",
    "        elif arr[mid]<arr[mid-1] and arr[mid]<arr[mid+1]:\n",
    "            e = mid-1\n",
    "a = [1,2,1,3,5,6,4]          \n",
    "peak(a)"
   ]
  },
  {
   "cell_type": "markdown",
   "id": "7fb4d206",
   "metadata": {},
   "source": [
    "<aside>\n",
    "💡 **Question 3**\n",
    "\n",
    "Given an array `nums` containing `n` distinct numbers in the range `[0, n]`, return *the only number in the range that is missing from the array.*\n",
    "\n",
    "</aside>"
   ]
  },
  {
   "cell_type": "code",
   "execution_count": 33,
   "id": "0623b55d",
   "metadata": {},
   "outputs": [
    {
     "name": "stdout",
     "output_type": "stream",
     "text": [
      "2\n"
     ]
    }
   ],
   "source": [
    "def in_list(arr):\n",
    "    for i in range(len(arr)+1):\n",
    "        if i not in arr:\n",
    "            print(i)\n",
    "            break\n",
    "            \n",
    "arr = [3,0,1]\n",
    "in_list(arr)"
   ]
  },
  {
   "cell_type": "markdown",
   "id": "fa90bdd0",
   "metadata": {},
   "source": [
    "<aside>\n",
    "💡 **Question 4**\n",
    "\n",
    "Given an array of integers `nums` containing `n + 1` integers where each integer is in the range `[1, n]` inclusive.\n",
    "\n",
    "There is only **one repeated number** in `nums`, return *this repeated number*.\n",
    "\n",
    "You must solve the problem **without** modifying the array `nums` and uses only constant extra space.\n",
    "\n",
    "</aside>"
   ]
  },
  {
   "cell_type": "code",
   "execution_count": 44,
   "id": "cef7720d",
   "metadata": {},
   "outputs": [
    {
     "data": {
      "text/plain": [
       "3"
      ]
     },
     "execution_count": 44,
     "metadata": {},
     "output_type": "execute_result"
    }
   ],
   "source": [
    "def dup_ele(nums):\n",
    "    for i in range(len(nums)):\n",
    "        if nums.count(nums[i])>1:\n",
    "            return(nums[i])\n",
    "        \n",
    "arr = [3,1,3,4,2]\n",
    "dup_ele(arr)"
   ]
  },
  {
   "cell_type": "markdown",
   "id": "7c56c554",
   "metadata": {},
   "source": [
    "<aside>\n",
    "💡 **Question 5**\n",
    "\n",
    "Given two integer arrays `nums1` and `nums2`, return *an array of their intersection*. Each element in the result must be **unique** and you may return the result in **any order**.\n",
    "\n",
    "</aside>"
   ]
  },
  {
   "cell_type": "code",
   "execution_count": 53,
   "id": "7430cdac",
   "metadata": {},
   "outputs": [
    {
     "data": {
      "text/plain": [
       "[4, 9]"
      ]
     },
     "execution_count": 53,
     "metadata": {},
     "output_type": "execute_result"
    }
   ],
   "source": [
    "def inter_without_dup(nums1, nums2):\n",
    "    res=[]\n",
    "    for i in range(len(nums1)):\n",
    "        for j in range(len(nums2)):\n",
    "            if nums1[i]==nums2[j] and nums1[i] not in res:\n",
    "                res.append(nums1[i])\n",
    "    return res\n",
    "\n",
    "nums1 = [4,9,5]\n",
    "nums2 = [9,4,9,8,4]\n",
    "inter_without_dup(nums1,nums2)"
   ]
  },
  {
   "cell_type": "markdown",
   "id": "52794b05",
   "metadata": {},
   "source": [
    "<aside>\n",
    "💡 **Question 6**\n",
    "\n",
    "Suppose an array of length `n` sorted in ascending order is **rotated** between `1` and `n` times. For example, the array `nums = [0,1,2,4,5,6,7]` might become:\n",
    "\n",
    "- `[4,5,6,7,0,1,2]` if it was rotated `4` times.\n",
    "- `[0,1,2,4,5,6,7]` if it was rotated `7` times.\n",
    "\n",
    "Notice that **rotating** an array `[a[0], a[1], a[2], ..., a[n-1]]` 1 time results in the array `[a[n-1], a[0], a[1], a[2], ..., a[n-2]]`.\n",
    "\n",
    "Given the sorted rotated array `nums` of **unique** elements, return *the minimum element of this array*.\n",
    "\n",
    "You must write an algorithm that runs in `O(log n) time.`\n",
    "\n",
    "</aside>"
   ]
  },
  {
   "cell_type": "code",
   "execution_count": 62,
   "id": "7eea57bd",
   "metadata": {},
   "outputs": [
    {
     "data": {
      "text/plain": [
       "0"
      ]
     },
     "execution_count": 62,
     "metadata": {},
     "output_type": "execute_result"
    }
   ],
   "source": [
    "# O(log n)\n",
    "\n",
    "def min_ele(arr):\n",
    "    s = 0\n",
    "    e = len(arr)-1\n",
    "    while s<e:\n",
    "        mid = (s+e)//2\n",
    "        if arr[mid]>arr[mid-1] and arr[mid]>arr[mid+1]:\n",
    "            return arr[mid+1]\n",
    "        elif arr[mid]>arr[mid-1] and arr[mid]<arr[mid+1]:\n",
    "            s = mid+1\n",
    "        elif arr[mid]<arr[mid-1] and arr[mid]<arr[mid+1]:\n",
    "            e = mid-1\n",
    "    return arr[0]\n",
    "a = [4,5,6,7,0,1,2]          \n",
    "min_ele(a)"
   ]
  },
  {
   "cell_type": "markdown",
   "id": "1815f01f",
   "metadata": {},
   "source": [
    "<aside>\n",
    "💡 **Question 7**\n",
    "\n",
    "Given an array of integers `nums` sorted in non-decreasing order, find the starting and ending position of a given `target` value.\n",
    "\n",
    "If `target` is not found in the array, return `[-1, -1]`.\n",
    "\n",
    "You must write an algorithm with `O(log n)` runtime complexity.\n",
    "\n",
    "</aside>"
   ]
  },
  {
   "cell_type": "code",
   "execution_count": 69,
   "id": "441cdbfb",
   "metadata": {},
   "outputs": [
    {
     "data": {
      "text/plain": [
       "[3, 4]"
      ]
     },
     "execution_count": 69,
     "metadata": {},
     "output_type": "execute_result"
    }
   ],
   "source": [
    "def index_target(arr, target):\n",
    "    s = 0\n",
    "    e = len(arr)-1\n",
    "    while s<e:\n",
    "        mid = (s+e)//2\n",
    "        if arr[mid]==target and arr[mid+1]==target:\n",
    "            return [mid,mid+1]\n",
    "        elif arr[mid]==target and arr[mid-1]==target:\n",
    "            return [mid-1,mid]\n",
    "        elif arr[mid]<target:\n",
    "            s = mid+1\n",
    "        elif arr[mid]>target:\n",
    "            e = mid-1\n",
    "    return [-1, -1]\n",
    "\n",
    "\n",
    "nums = [5,7,7,8,8,10]\n",
    "target = 8\n",
    "index_target(nums,target)"
   ]
  },
  {
   "cell_type": "markdown",
   "id": "64ecc112",
   "metadata": {},
   "source": [
    "<aside>\n",
    "💡 **Question 8**\n",
    "\n",
    "Given two integer arrays `nums1` and `nums2`, return *an array of their intersection*. Each element in the result must appear as many times as it shows in both arrays and you may return the result in **any order**.\n",
    "\n",
    "</aside>"
   ]
  },
  {
   "cell_type": "code",
   "execution_count": 74,
   "id": "3d6843c5",
   "metadata": {},
   "outputs": [
    {
     "data": {
      "text/plain": [
       "[2, 2]"
      ]
     },
     "execution_count": 74,
     "metadata": {},
     "output_type": "execute_result"
    }
   ],
   "source": [
    "def inter_with_dup(nums1, nums2):\n",
    "    res=[]\n",
    "    for i in range(len(nums1)):\n",
    "        for j in range(len(nums2)):\n",
    "            if nums1[i]==nums2[j]:\n",
    "                res.append(nums1[i])\n",
    "                break\n",
    "    return res\n",
    "\n",
    "nums1 = [1,2,2,1]\n",
    "nums2 = [2,2]\n",
    "inter_with_dup(nums1,nums2)"
   ]
  }
 ],
 "metadata": {
  "kernelspec": {
   "display_name": "Python 3 (ipykernel)",
   "language": "python",
   "name": "python3"
  },
  "language_info": {
   "codemirror_mode": {
    "name": "ipython",
    "version": 3
   },
   "file_extension": ".py",
   "mimetype": "text/x-python",
   "name": "python",
   "nbconvert_exporter": "python",
   "pygments_lexer": "ipython3",
   "version": "3.9.16"
  }
 },
 "nbformat": 4,
 "nbformat_minor": 5
}
